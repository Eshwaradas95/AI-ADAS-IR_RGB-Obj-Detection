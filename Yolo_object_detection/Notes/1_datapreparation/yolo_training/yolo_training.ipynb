{
 "cells": [
  {
   "cell_type": "code",
   "execution_count": 5,
   "metadata": {},
   "outputs": [
    {
     "name": "stdout",
     "output_type": "stream",
     "text": [
      "GPU is available\n"
     ]
    }
   ],
   "source": [
    "import os\n",
    "import torch\n",
    "\n",
    "# Check if GPU is available\n",
    "if torch.cuda.is_available():\n",
    "    print(\"GPU is available\")\n",
    "else:\n",
    "    print(\"GPU is not available\")\n"
   ]
  },
  {
   "cell_type": "code",
   "execution_count": 6,
   "metadata": {},
   "outputs": [
    {
     "name": "stdout",
     "output_type": "stream",
     "text": [
      " Volume in drive D is WINDOWS\n",
      " Volume Serial Number is 4CF0-3B61\n",
      "\n",
      " Directory of d:\\IR_RGB\\Yolo_object_detection\\Notes\\1_datapreparation\\yolo_training\\yolov7\n",
      "\n",
      "24-12-2024  14:05    <DIR>          .\n",
      "20-09-2024  23:37    <DIR>          ..\n",
      "20-09-2024  23:38             4,325 .gitignore\n",
      "20-09-2024  23:38    <DIR>          cfg\n",
      "23-12-2024  10:48    <DIR>          data\n",
      "20-09-2024  23:38    <DIR>          deploy\n",
      "20-09-2024  23:38             9,523 detect.py\n",
      "20-09-2024  23:38             9,367 export.py\n",
      "20-09-2024  23:38    <DIR>          figure\n",
      "20-09-2024  23:38             3,680 hubconf.py\n",
      "20-09-2024  23:38    <DIR>          inference\n",
      "20-09-2024  23:38            35,823 LICENSE.md\n",
      "21-09-2024  00:09    <DIR>          models\n",
      "20-09-2024  23:38    <DIR>          paper\n",
      "20-09-2024  23:38            15,056 README.md\n",
      "20-09-2024  23:38               997 requirements.txt\n",
      "20-09-2024  23:38    <DIR>          scripts\n",
      "20-09-2024  23:38            17,634 test.py\n",
      "20-09-2024  23:38    <DIR>          tools\n",
      "20-09-2024  23:38            38,738 train.py\n",
      "20-09-2024  23:38            38,134 train_aux.py\n",
      "21-09-2024  00:09    <DIR>          utils\n",
      "20-09-2024  23:44        75,587,165 yolov7.pt\n",
      "21-09-2024  00:19        12,639,769 yolov7-tiny.pt\n",
      "              12 File(s)     88,400,211 bytes\n",
      "              12 Dir(s)  483,969,523,712 bytes free\n"
     ]
    }
   ],
   "source": [
    "ls"
   ]
  },
  {
   "cell_type": "code",
   "execution_count": null,
   "metadata": {},
   "outputs": [],
   "source": [
    "!git clone https://github.com/WongKinYiu/yolov7.git"
   ]
  },
  {
   "cell_type": "code",
   "execution_count": 3,
   "metadata": {},
   "outputs": [],
   "source": [
    "os.chdir('yolov7')"
   ]
  },
  {
   "cell_type": "code",
   "execution_count": null,
   "metadata": {},
   "outputs": [],
   "source": [
    "ls"
   ]
  },
  {
   "cell_type": "code",
   "execution_count": null,
   "metadata": {},
   "outputs": [],
   "source": [
    "pip install -r requirements.txt"
   ]
  },
  {
   "cell_type": "code",
   "execution_count": null,
   "metadata": {},
   "outputs": [],
   "source": [
    "## Training YOLO v7 Model\n",
    "!python train.py --workers 1 --device 0 --batch-size 5 --epochs 50 --img 640 512 --data data/custom_data.yaml --hyp data/hyp.scratch.custom.yaml --cfg cfg/training/yolov7-custom.yaml --name yolov7-custom --weights yolov7.pt\n",
    "\n"
   ]
  },
  {
   "cell_type": "code",
   "execution_count": null,
   "metadata": {},
   "outputs": [],
   "source": []
  }
 ],
 "metadata": {
  "kernelspec": {
   "display_name": "torch",
   "language": "python",
   "name": "python3"
  },
  "language_info": {
   "codemirror_mode": {
    "name": "ipython",
    "version": 3
   },
   "file_extension": ".py",
   "mimetype": "text/x-python",
   "name": "python",
   "nbconvert_exporter": "python",
   "pygments_lexer": "ipython3",
   "version": "3.10.14"
  }
 },
 "nbformat": 4,
 "nbformat_minor": 2
}
