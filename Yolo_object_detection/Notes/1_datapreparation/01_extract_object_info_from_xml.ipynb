{
 "cells": [
  {
   "cell_type": "code",
   "execution_count": null,
   "id": "e8d06a83-990d-453f-ab0e-05a941f6369e",
   "metadata": {},
   "outputs": [],
   "source": [
    "import os\n",
    "from glob import glob # extract path of each file\n",
    "import pandas as pd # data preprocessing\n",
    "from xml.etree import ElementTree as et # parse information from XML\n",
    "from functools import reduce"
   ]
  },
  {
   "cell_type": "code",
   "execution_count": null,
   "id": "e3cbbd15-d4dd-4e0b-962e-ebd21a007b75",
   "metadata": {},
   "outputs": [],
   "source": [
    "import warnings\n",
    "warnings.filterwarnings('ignore')"
   ]
  },
  {
   "cell_type": "code",
   "execution_count": null,
   "id": "ea96fa7d-2501-4650-a9f1-82337ea224e2",
   "metadata": {},
   "outputs": [],
   "source": [
    "# step-1: get path of each xml file\n",
    "xmlfiles = glob('./data_images/*.xml')\n",
    "# replace \\\\ with /\n",
    "replace_text = lambda x: x.replace('\\\\','/')\n",
    "xmlfiles = list(map(replace_text,xmlfiles))"
   ]
  },
  {
   "cell_type": "code",
   "execution_count": null,
   "id": "b29482d9-54fe-4e27-a103-f5435cdd2687",
   "metadata": {},
   "outputs": [],
   "source": [
    "xmlfiles"
   ]
  },
  {
   "cell_type": "code",
   "execution_count": null,
   "id": "f128dae7-7dcb-435c-bd04-696406f434e0",
   "metadata": {},
   "outputs": [],
   "source": [
    "# step-2: read xml files\n",
    "# from each xml file we need to extract\n",
    "# filename, size(width, height), object(name, xmin, xmax, ymin, ymax)\n",
    "def extract_text(filename):\n",
    "    tree = et.parse(filename)\n",
    "    root = tree.getroot()\n",
    "\n",
    "    # extract filename\n",
    "    image_name = root.find('filename').text\n",
    "    # width and height of the image\n",
    "    width = root.find('size').find('width').text\n",
    "    height = root.find('size').find('height').text\n",
    "    objs = root.findall('object')\n",
    "    parser = []\n",
    "    for obj in objs:\n",
    "        name = obj.find('name').text\n",
    "        bndbox = obj.find('bndbox')\n",
    "        xmin = bndbox.find('xmin').text\n",
    "        xmax = bndbox.find('xmax').text\n",
    "        ymin = bndbox.find('ymin').text\n",
    "        ymax = bndbox.find('ymax').text\n",
    "        parser.append([image_name, width, height, name,xmin,xmax,ymin,ymax])\n",
    "        \n",
    "    return parser"
   ]
  },
  {
   "cell_type": "code",
   "execution_count": null,
   "id": "a512622f-8eaf-4a70-af16-de954a550a40",
   "metadata": {},
   "outputs": [],
   "source": [
    "parser_all = list(map(extract_text,xmlfiles))"
   ]
  },
  {
   "cell_type": "code",
   "execution_count": null,
   "id": "8c4a939c-fe5d-48a8-9392-0007f0b9017e",
   "metadata": {},
   "outputs": [],
   "source": [
    "data = reduce(lambda x, y : x+y, parser_all)"
   ]
  },
  {
   "cell_type": "code",
   "execution_count": null,
   "id": "5977bbd3-a730-4042-8319-6a78cf671477",
   "metadata": {},
   "outputs": [],
   "source": [
    "df = pd.DataFrame(data,columns = ['filename','width','height','name','xmin','xmax','ymin','ymax'])"
   ]
  },
  {
   "cell_type": "code",
   "execution_count": null,
   "id": "d698bc31-9334-486f-9033-9fc483867001",
   "metadata": {},
   "outputs": [],
   "source": [
    "df.head()"
   ]
  },
  {
   "cell_type": "code",
   "execution_count": null,
   "id": "11d1afef-72ac-498c-95fb-004a93276a10",
   "metadata": {},
   "outputs": [],
   "source": [
    "df.shape"
   ]
  },
  {
   "cell_type": "code",
   "execution_count": null,
   "id": "f5ce195e-7cf3-4e6e-b413-6cfa9550d5ff",
   "metadata": {},
   "outputs": [],
   "source": [
    "df['name'].value_counts()"
   ]
  },
  {
   "cell_type": "markdown",
   "id": "d856e5a2-d016-4996-8d7e-c8aec65c72c5",
   "metadata": {},
   "source": [
    "#### Conversion\n",
    "![image-2.png](attachment:image-2.png)"
   ]
  },
  {
   "cell_type": "code",
   "execution_count": null,
   "id": "a53c1489-891f-49a8-9671-9b0d467738fc",
   "metadata": {},
   "outputs": [],
   "source": [
    "df.info()"
   ]
  },
  {
   "cell_type": "code",
   "execution_count": null,
   "id": "acc98026-fe9f-4b49-88a9-ef9c7afdb118",
   "metadata": {},
   "outputs": [],
   "source": [
    "# type conversion\n",
    "cols = ['width','height','xmin','xmax','ymin','ymax']\n",
    "df[cols] = df[cols].astype(int)\n",
    "df.info()"
   ]
  },
  {
   "cell_type": "code",
   "execution_count": null,
   "id": "764b0bd5-748e-433c-9ec7-772b9866a252",
   "metadata": {},
   "outputs": [],
   "source": [
    "# center x, center y\n",
    "df['center_x'] = ((df['xmax']+df['xmin'])/2)/df['width']\n",
    "df['center_y'] = ((df['ymax']+df['ymin'])/2)/df['height']\n",
    "# w \n",
    "df['w'] = (df['xmax']-df['xmin'])/df['width']\n",
    "# h \n",
    "df['h'] = (df['ymax']-df['ymin'])/df['height']"
   ]
  },
  {
   "cell_type": "code",
   "execution_count": null,
   "id": "2dd70cbc-5b1a-4229-88f8-414feb2f774d",
   "metadata": {},
   "outputs": [],
   "source": [
    "df.head()"
   ]
  },
  {
   "cell_type": "code",
   "execution_count": null,
   "id": "2591134d-ada3-47c5-86ee-41bc07602644",
   "metadata": {},
   "outputs": [],
   "source": [
    "images = df['filename'].unique()"
   ]
  },
  {
   "cell_type": "code",
   "execution_count": null,
   "id": "7f4d56a9-6334-40ed-915a-ce379954e10a",
   "metadata": {},
   "outputs": [],
   "source": [
    "len(images)"
   ]
  },
  {
   "cell_type": "code",
   "execution_count": null,
   "id": "a4e9576f-e88f-492d-9beb-168ad8adf048",
   "metadata": {},
   "outputs": [],
   "source": [
    "# 80% train and 20% test\n",
    "img_df = pd.DataFrame(images,columns=['filename'])\n",
    "img_train = tuple(img_df.sample(frac=0.8)['filename']) # shuffle and pick 80% of images"
   ]
  },
  {
   "cell_type": "code",
   "execution_count": null,
   "id": "646f9515-2217-444e-8403-79268b5776bd",
   "metadata": {},
   "outputs": [],
   "source": [
    "img_test = tuple(img_df.query(f'filename not in {img_train}')['filename']) # take rest 20% images"
   ]
  },
  {
   "cell_type": "code",
   "execution_count": null,
   "id": "5d01251b-0f67-4dee-9eb8-2df2c0d540ea",
   "metadata": {},
   "outputs": [],
   "source": [
    "train_df = df.query(f'filename in {img_train}')\n",
    "test_df = df.query(f'filename in {img_test}')"
   ]
  },
  {
   "cell_type": "code",
   "execution_count": null,
   "id": "e99bd2d8-471d-44df-9035-a7e1a2009c43",
   "metadata": {},
   "outputs": [],
   "source": [
    "train_df.head()"
   ]
  },
  {
   "cell_type": "code",
   "execution_count": null,
   "id": "f935243f-5e5a-49c4-9373-eb86408beda1",
   "metadata": {},
   "outputs": [],
   "source": [
    "test_df.head()"
   ]
  },
  {
   "cell_type": "code",
   "execution_count": null,
   "id": "2f0a9c14-633b-4d68-9f69-0d5d36d3fbf6",
   "metadata": {},
   "outputs": [],
   "source": [
    "# label encoding\n",
    "def label_encoding(x):\n",
    "    labels = {'person':0, 'car':1, 'chair':2, 'bottle':3, 'pottedplant':4, 'bird':5, 'dog':6,\n",
    "       'sofa':7, 'bicycle':8, 'horse':9, 'boat':10, 'motorbike':11, 'cat':12, 'tvmonitor':13,\n",
    "       'cow':14, 'sheep':15, 'aeroplane':16, 'train':17, 'diningtable':18, 'bus':19}\n",
    "    return labels[x]"
   ]
  },
  {
   "cell_type": "code",
   "execution_count": null,
   "id": "2527421f-a60a-4723-9d35-86006fe65bd7",
   "metadata": {},
   "outputs": [],
   "source": [
    "train_df['id'] = train_df['name'].apply(label_encoding)\n",
    "test_df['id'] = test_df['name'].apply(label_encoding)"
   ]
  },
  {
   "cell_type": "code",
   "execution_count": null,
   "id": "18e327c6-d3c6-49fb-b45c-aebc0c7f3c53",
   "metadata": {},
   "outputs": [],
   "source": [
    "train_df.head(10)"
   ]
  },
  {
   "cell_type": "code",
   "execution_count": null,
   "id": "cfd3f032-406b-4b3d-807a-1b85a5c59990",
   "metadata": {},
   "outputs": [],
   "source": [
    "import os\n",
    "from shutil import move"
   ]
  },
  {
   "cell_type": "code",
   "execution_count": null,
   "id": "cec049ab-7f4a-4e97-bafe-eddb2ffd60e0",
   "metadata": {},
   "outputs": [],
   "source": [
    "train_folder = 'data_images/train'\n",
    "test_folder = 'data_images/test'\n",
    "\n",
    "\n",
    "os.mkdir(train_folder)\n",
    "os.mkdir(test_folder)"
   ]
  },
  {
   "cell_type": "code",
   "execution_count": null,
   "id": "c842b0f4-17c3-4562-89fd-130c35f17c53",
   "metadata": {},
   "outputs": [],
   "source": [
    "cols = ['filename','id','center_x','center_y', 'w', 'h']\n",
    "groupby_obj_train = train_df[cols].groupby('filename')\n",
    "groupby_obj_test = test_df[cols].groupby('filename')"
   ]
  },
  {
   "cell_type": "code",
   "execution_count": null,
   "id": "037b2ce2-c092-4b1c-95f9-0dec278cca67",
   "metadata": {},
   "outputs": [],
   "source": [
    "#groupby_obj_train.get_group('000009.jpg').set_index('filename').to_csv('sample.txt',index=False,header=False)\n",
    "# save each image in train/test folder and repective labels in .txt\n",
    "def save_data(filename, folder_path, group_obj):\n",
    "    # move image\n",
    "    src = os.path.join('data_images',filename)\n",
    "    dst = os.path.join(folder_path,filename)\n",
    "    move(src,dst) # move image to the destination folder\n",
    "    \n",
    "    # save the labels\n",
    "    text_filename = os.path.join(folder_path,\n",
    "                                 os.path.splitext(filename)[0]+'.txt')\n",
    "    group_obj.get_group(filename).set_index('filename').to_csv(text_filename,sep=' ',index=False,header=False)\n",
    "    "
   ]
  },
  {
   "cell_type": "code",
   "execution_count": null,
   "id": "66e2e28e-025d-4f58-b194-f621be40f527",
   "metadata": {},
   "outputs": [],
   "source": [
    "filename_series = pd.Series(groupby_obj_train.groups.keys())"
   ]
  },
  {
   "cell_type": "code",
   "execution_count": null,
   "id": "a19f8429-cead-4512-aa9d-64edb4f0b5a1",
   "metadata": {},
   "outputs": [],
   "source": [
    "filename_series.apply(save_data,args=(train_folder,groupby_obj_train))"
   ]
  },
  {
   "cell_type": "code",
   "execution_count": null,
   "id": "981a6da1-6161-444f-bf5b-57fae21d28be",
   "metadata": {},
   "outputs": [],
   "source": []
  },
  {
   "cell_type": "code",
   "execution_count": null,
   "id": "16d0798d-9d8e-44fa-8188-4631bcf1c677",
   "metadata": {},
   "outputs": [],
   "source": [
    "filename_series_test = pd.Series(groupby_obj_test.groups.keys())\n",
    "filename_series_test.apply(save_data,args=(test_folder,groupby_obj_test))"
   ]
  }
 ],
 "metadata": {
  "kernelspec": {
   "display_name": "Python 3 (ipykernel)",
   "language": "python",
   "name": "python3"
  },
  "language_info": {
   "codemirror_mode": {
    "name": "ipython",
    "version": 3
   },
   "file_extension": ".py",
   "mimetype": "text/x-python",
   "name": "python",
   "nbconvert_exporter": "python",
   "pygments_lexer": "ipython3",
   "version": "3.10.14"
  }
 },
 "nbformat": 4,
 "nbformat_minor": 5
}
